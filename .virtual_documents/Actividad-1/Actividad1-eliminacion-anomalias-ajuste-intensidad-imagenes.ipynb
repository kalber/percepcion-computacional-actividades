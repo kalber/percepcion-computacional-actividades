











import cv2 as cv
import numpy as np
import matplotlib.pyplot as plt
from skimage.metrics import structural_similarity
import pandas as pd





def mostrar_imagen(imagen, titulo = 'Imagen', cmap = 'gray'):
    plt.imshow(imagen, cmap = cmap)
    plt.title(titulo)
    plt.axis('off')
    plt.show()








original_cars_11 = cv.imread('../imagenes/cars/Cars11.png', cv.IMREAD_GRAYSCALE)
original_cars_3 = cv.imread('../imagenes/cars/Cars3.png', cv.IMREAD_GRAYSCALE)

if original_cars_11 is None:
    print('No se pudo abrir la imagen de Cars11')

if original_cars_3 is None:
    print('No se pudo abrir la imagen de Cars3')


mostrar_imagen(original_cars_11, 'Original - Cars 11')
mostrar_imagen(original_cars_3, 'Original - Cars 3')





def agregar_ruido_sal_y_pimienta(imagen, porcentaje = 0.1):
    imagen_con_ruido = imagen.copy()
    total_ruido = int(porcentaje * imagen_con_ruido.size / 2)

    # Añadimos sal
    pixeles_con_sal = [np.random.randint(0, i - 1, total_ruido) for i in imagen.shape]
    imagen_con_ruido[pixeles_con_sal[0], pixeles_con_sal[1]] = 255

    # Añadimos sal
    pixeles_con_pimienta = [np.random.randint(0, i - 1, total_ruido) for i in imagen.shape]
    imagen_con_ruido[pixeles_con_pimienta[0], pixeles_con_pimienta[1]] = 0

    return imagen_con_ruido





cars_11_con_ruido = agregar_ruido_sal_y_pimienta(original_cars_11, 0.05)
cars_3_con_ruido = agregar_ruido_sal_y_pimienta(original_cars_3, 0.05)





mostrar_imagen(original_cars_11, 'Cars 11: Imagen en grises - Original')
mostrar_imagen(cars_11_con_ruido, 'Cars 11: Imagen en grises - Con ruido sal y pimienta')
mostrar_imagen(original_cars_3, 'Cars 3: Imagen en grises - Original')
mostrar_imagen(cars_3_con_ruido, 'Cars 3: Imagen en grises - Con ruido sal y pimienta')





cars_11_filtrada_opencv = cv.medianBlur(cars_11_con_ruido, ksize = 3)
cars_3_filtrada_opencv = cv.medianBlur(cars_3_con_ruido, ksize = 3)





def kuwahara_filter(imagen, tamanio_ventana = 5):
    # Obtenemos un tamaño para cada uno de los cuadrantes.
    tamanio_cuadrante = tamanio_ventana // 2

    # Generamos una nueva imagen agregando bordes a cada lado de la imagen con ruido.
    # Los bordes se generan con el objetivo de que cada uno de los pixeles de nuestra imagen con ruido, se pueda seleccionar una ventana para obtener los cuadrantes.
    # Le pasamos la imagen, luego pasamos el tamaño que tendrá de borde a cada lado (top, bottom, left, right) y al final definimos como vamos a generar este border. BORDER_REFLECT refleja los pixeles que se tienen en la imagen. Ejemplo: cba|abcdefg|gfe
    imagen_con_borde = cv.copyMakeBorder(imagen, tamanio_cuadrante, tamanio_cuadrante, tamanio_cuadrante, tamanio_cuadrante, cv.BORDER_REFLECT)

    # Generamos un arreglo bidimensional del mismo tamaño de la imagen de entrada. Se inicializa en 0.
    imagen_filtrada = np.zeros_like(imagen)

    # Obtenemos las filas y columnas de nuestra imagen con ruido.
    filas, columnas = imagen.shape

    # Recorremos fila por fila y columna por columna nuestra imagen.
    for i in range(filas):
        for j in range(columnas):
            # Obtenemos nuestra ventana usando la imagen con bordes.
            ventana = imagen_con_borde[i: i + tamanio_ventana, j: j + tamanio_ventana]

            #Dividimos nuestra ventana en los 4 cuadrantes que necesitamos.
            cuadrantes = [
                ventana[0: tamanio_cuadrante + 1, 0: tamanio_cuadrante + 1], # Cuadrante 1
                ventana[0: tamanio_cuadrante + 1, tamanio_cuadrante:],       # Cuadrante 2
                ventana[tamanio_cuadrante:, 0: tamanio_cuadrante],           # Cuadrante 3
                ventana[tamanio_cuadrante:, tamanio_cuadrante:]              # Cuadrante 4
            ]

            # Calculamos las medias y las varianzas de cada uno de los cuadrantes.
            medias_cuadrantes = [np.mean(cuadrante) for cuadrante in cuadrantes]
            varianza_cuadrantes = [np.var(cuadrante) for cuadrante in cuadrantes]

            # Buscamos el cuadrante con menor varianza
            indice_menor_varianza = np.argmin(varianza_cuadrantes)

            # Se guarda la media del cuadrante con menor varianza en el arreglo bidimensional. La media se convierte a entero, por si tenemos valor decimales.
            imagen_filtrada[i, j] = int(medias_cuadrantes[indice_menor_varianza])

    # Al final retornamos la imagen filtrada
    return imagen_filtrada


cars_11_filtrada_manual = kuwahara_filter(cars_11_con_ruido, 5)
cars_3_filtrada_manual = kuwahara_filter(cars_3_con_ruido, 5)





mostrar_imagen(cars_11_filtrada_opencv, 'Cars 11: Imagen en grises - Filtrada con OpenCV')
mostrar_imagen(cars_11_filtrada_manual, 'Cars 11: Imagen en grises - Filtrada Manual')

mostrar_imagen(cars_3_filtrada_opencv, 'Cars 3: Imagen en grises - Filtrada con OpenCV')
mostrar_imagen(cars_3_filtrada_manual, 'Cars 3: Imagen en grises - Filtrada Manual')








def calcular_mse(imagen_original, imagen_filtrada):
    return np.mean((imagen_original.astype(np.float64) - imagen_filtrada.astype(np.float64)) ** 2)

def calcular_ssim(imagen_original, imagen_filtrada):
    valor_ssim, _ = structural_similarity(imagen_original, imagen_filtrada, full = True)
    return valor_ssim

def calcular_psnr(imagen_original, imagen_filtrada):
    return cv.PSNR(imagen_original, imagen_filtrada)





metricas_cars_11 = {
    "Filtrada_OpenCV_vs_Original": {
        "MSE": calcular_mse(original_cars_11, cars_11_filtrada_opencv),
        "SSIM": calcular_ssim(original_cars_11, cars_11_filtrada_opencv),
        "PSNR": calcular_psnr(original_cars_11, cars_11_filtrada_opencv)
    },
    "Filtrada_Manual_vs_Original": {
        "MSE": calcular_mse(original_cars_11, cars_11_filtrada_manual),
        "SSIM": calcular_ssim(original_cars_11, cars_11_filtrada_manual),
        "PSNR": calcular_psnr(original_cars_11, cars_11_filtrada_manual)
    }
}
print(metricas_cars_11)

metricas_cars_3 = {
    "Filtrada_OpenCV_vs_Original": {
        "MSE": calcular_mse(original_cars_3, cars_3_filtrada_opencv),
        "SSIM": calcular_ssim(original_cars_3, cars_3_filtrada_opencv),
        "PSNR": calcular_psnr(original_cars_3, cars_3_filtrada_opencv)
    },
    "Filtrada_Manual_vs_Original": {
        "MSE": calcular_mse(original_cars_3, cars_3_filtrada_manual),
        "SSIM": calcular_ssim(original_cars_3, cars_3_filtrada_manual),
        "PSNR": calcular_psnr(original_cars_3, cars_3_filtrada_manual)
    }
}
print(metricas_cars_3)


df_metricas_cars_11 = pd.DataFrame(metricas_cars_11).T
df_metricas_cars_3 = pd.DataFrame(metricas_cars_3).T





df_metricas_cars_11


df_metricas_cars_3











def mostrar_imagen_color(imagen, titulo = 'Imagen'):
    mostrar_imagen(cv.cvtColor(imagen, cv.COLOR_BGR2RGB), titulo, None)





original_coche_01 = cv.imread('../imagenes/cars/coche01.jpeg')
original_coche_15 = cv.imread('../imagenes/cars/coche15.jpeg')

if original_coche_01 is None:
    print('No se pudo abrir la imagen de coche01')

if original_coche_15 is None:
    print('No se pudo abrir la imagen de coche15')


mostrar_imagen_color(original_coche_01, 'Original - Coche 01')
mostrar_imagen_color(original_coche_15, 'Original - Coche 15')








def mejorar_contraste_opencv_canal_V(imagen):
    # Convertimos la imagen a color HSV
    imagen_hsv = cv.cvtColor(imagen, cv.COLOR_BGR2HSV)

    # Ecualizamos el canal V, que es el brillo.
    imagen_hsv[:, :, 2] = cv.equalizeHist(imagen_hsv[:, :, 2])

    # retornamos la imagen de vuelta en color BGR
    return cv.cvtColor(imagen_hsv, cv.COLOR_HSV2BGR)





mejorada_opencv_coche_01 = mejorar_contraste_opencv_canal_V(original_coche_01)
mejorada_opencv_coche_15 = mejorar_contraste_opencv_canal_V(original_coche_15)


mostrar_imagen_color(original_coche_01, 'Imagen Original - Coche 01')
mostrar_imagen_color(mejorada_opencv_coche_01, 'Imagen Mejorada - Coche 01')


mostrar_imagen_color(original_coche_15, 'Imagen Original - Coche 15')
mostrar_imagen_color(mejorada_opencv_coche_15, 'Imagen Mejorada - Coche 15')



