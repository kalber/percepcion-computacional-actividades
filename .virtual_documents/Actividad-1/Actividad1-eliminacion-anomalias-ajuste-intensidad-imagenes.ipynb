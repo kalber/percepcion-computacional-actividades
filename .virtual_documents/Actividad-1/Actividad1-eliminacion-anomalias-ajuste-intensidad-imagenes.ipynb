











import cv2 as cv
import numpy as np
import matplotlib.pyplot as plt
from skimage.metrics import structural_similarity
import pandas as pd





def mostrar_imagen(imagen, titulo = 'Imagen'):
    plt.imshow(imagen, cmap = 'gray')
    plt.title(titulo)
    plt.axis('off')
    plt.show()








original_windows_xp_wallpaper = cv.imread('../imagenes/windows_xp_wallpaper.jpg', cv.IMREAD_GRAYSCALE);
original_tecnologia = cv.imread('../imagenes/tecnologia.jpg', cv.IMREAD_GRAYSCALE);

if original_windows_xp_wallpaper is None:
    print('No se pudo abrir la imagen de windows xp')

if original_tecnologia is None:
    print('No se pudo abrir la imagen de tecnologia')





def agregar_ruido_sal_y_pimienta(imagen, porcentaje = 0.1):
    imagen_con_ruido = imagen.copy()
    total_ruido = int(porcentaje * imagen_con_ruido.size / 2)

    # Añadimos sal
    pixeles_con_sal = [np.random.randint(0, i - 1, total_ruido) for i in imagen.shape]
    imagen_con_ruido[pixeles_con_sal[0], pixeles_con_sal[1]] = 255

    # Añadimos sal
    pixeles_con_pimienta = [np.random.randint(0, i - 1, total_ruido) for i in imagen.shape]
    imagen_con_ruido[pixeles_con_pimienta[0], pixeles_con_pimienta[1]] = 0

    return imagen_con_ruido





windows_xp_wallpaper_con_ruido = agregar_ruido_sal_y_pimienta(original_windows_xp_wallpaper, 0.05)
tecnologia_con_ruido = agregar_ruido_sal_y_pimienta(original_tecnologia, 0.05)





mostrar_imagen(original_windows_xp_wallpaper, 'Windows XP: Imagen en grises - Original')
mostrar_imagen(windows_xp_wallpaper_con_ruido, 'Windows XP: Imagen en grises - Con ruido sal y pimienta')
mostrar_imagen(original_tecnologia, 'Tecnologia: Imagen en grises - Original')
mostrar_imagen(tecnologia_con_ruido, 'Tecnologia: Imagen en grises - Con ruido sal y pimienta')





windows_xp_wallpaper_filtrada_opencv = cv.medianBlur(windows_xp_wallpaper_con_ruido, ksize = 3)
tecnologia_filtrada_opencv = cv.medianBlur(tecnologia_con_ruido, ksize = 3)





def kuwahara_filter(imagen, tamanio_ventana = 5):
    # Obtenemos un tamaño para cada uno de los cuadrantes.
    tamanio_cuadrante = tamanio_ventana // 2

    # Generamos una nueva imagen agregando bordes a cada lado de la imagen con ruido.
    # Los bordes se generan con el objetivo de que cada uno de los pixeles de nuestra imagen con ruido, se pueda seleccionar una ventana para obtener los cuadrantes.
    # Le pasamos la imagen, luego pasamos el tamaño que tendrá de borde a cada lado (top, bottom, left, right) y al final definimos como vamos a generar este border. BORDER_REFLECT refleja los pixeles que se tienen en la imagen. Ejemplo: cba|abcdefg|gfe
    imagen_con_borde = cv.copyMakeBorder(imagen, tamanio_cuadrante, tamanio_cuadrante, tamanio_cuadrante, tamanio_cuadrante, cv.BORDER_REFLECT)

    # Generamos un arreglo bidimensional del mismo tamaño de la imagen de entrada. Se inicializa en 0.
    imagen_filtrada = np.zeros_like(imagen)

    # Obtenemos las filas y columnas de nuestra imagen con ruido.
    filas, columnas = imagen.shape

    # Recorremos fila por fila y columna por columna nuestra imagen.
    for i in range(filas):
        for j in range(columnas):
            # Obtenemos nuestra ventana usando la imagen con bordes.
            ventana = imagen_con_borde[i: i + tamanio_ventana, j: j + tamanio_ventana]

            #Dividimos nuestra ventana en los 4 cuadrantes que necesitamos.
            cuadrantes = [
                ventana[0: tamanio_cuadrante + 1, 0: tamanio_cuadrante + 1], # Cuadrante 1
                ventana[0: tamanio_cuadrante + 1, tamanio_cuadrante:],       # Cuadrante 2
                ventana[tamanio_cuadrante:, 0: tamanio_cuadrante],           # Cuadrante 3
                ventana[tamanio_cuadrante:, tamanio_cuadrante:]              # Cuadrante 4
            ]

            # Calculamos las medias y las varianzas de cada uno de los cuadrantes.
            medias_cuadrantes = [np.mean(cuadrante) for cuadrante in cuadrantes]
            varianza_cuadrantes = [np.var(cuadrante) for cuadrante in cuadrantes]

            # Buscamos el cuadrante con menor varianza
            indice_menor_varianza = np.argmin(varianza_cuadrantes)

            # Se guarda la media del cuadrante con menor varianza en el arreglo bidimensional. La media se convierte a entero, por si tenemos valor decimales.
            imagen_filtrada[i, j] = int(medias_cuadrantes[indice_menor_varianza])

    # Al final retornamos la imagen filtrada
    return imagen_filtrada


windows_xp_wallpaper_filtrada_manual = kuwahara_filter(windows_xp_wallpaper_con_ruido, 5)
tecnologia_filtrada_manual = kuwahara_filter(tecnologia_con_ruido, 5)





mostrar_imagen(windows_xp_wallpaper_filtrada_opencv, 'Windows XP: Imagen en grises - Filtrada con OpenCV')
mostrar_imagen(windows_xp_wallpaper_filtrada_manual, 'Windows XP: Imagen en grises - Filtrada Manual')

mostrar_imagen(tecnologia_filtrada_opencv, 'Tecnologia: Imagen en grises - Filtrada con OpenCV')
mostrar_imagen(tecnologia_filtrada_manual, 'Tecnologia: Imagen en grises - Filtrada Manual')








def calcular_mse(imagen_original, imagen_filtrada):
    return np.mean((imagen_original.astype(np.float64) - imagen_filtrada.astype(np.float64)) ** 2)

def calcular_ssim(imagen_original, imagen_filtrada):
    valor_ssim, _ = structural_similarity(imagen_original, imagen_filtrada, full = True)
    return valor_ssim

def calcular_psnr(imagen_original, imagen_filtrada):
    return cv.PSNR(imagen_original, imagen_filtrada)





metricas_windows_xp = {
    "Filtrada_OpenCV_vs_Original": {
        "MSE": calcular_mse(original_windows_xp_wallpaper, windows_xp_wallpaper_filtrada_opencv),
        "SSIM": calcular_ssim(original_windows_xp_wallpaper, windows_xp_wallpaper_filtrada_opencv),
        "PSNR": calcular_psnr(original_windows_xp_wallpaper, windows_xp_wallpaper_filtrada_opencv)
    },
    "Filtrada_Manual_vs_Original": {
        "MSE": calcular_mse(original_windows_xp_wallpaper, windows_xp_wallpaper_filtrada_manual),
        "SSIM": calcular_ssim(original_windows_xp_wallpaper, windows_xp_wallpaper_filtrada_manual),
        "PSNR": calcular_psnr(original_windows_xp_wallpaper, windows_xp_wallpaper_filtrada_manual)
    }
}
print(metricas_windows_xp)

metricas_tecnologia = {
    "Filtrada_OpenCV_vs_Original": {
        "MSE": calcular_mse(original_tecnologia, tecnologia_filtrada_opencv),
        "SSIM": calcular_ssim(original_tecnologia, tecnologia_filtrada_opencv),
        "PSNR": calcular_psnr(original_tecnologia, tecnologia_filtrada_opencv)
    },
    "Filtrada_Manual_vs_Original": {
        "MSE": calcular_mse(original_tecnologia, tecnologia_filtrada_manual),
        "SSIM": calcular_ssim(original_tecnologia, tecnologia_filtrada_manual),
        "PSNR": calcular_psnr(original_tecnologia, tecnologia_filtrada_manual)
    }
}
print(metricas_tecnologia)


df_metricas_windows_xp = pd.DataFrame(metricas_windows_xp).T
df_metricas_tecnologia = pd.DataFrame(metricas_tecnologia).T





df_metricas_windows_xp


df_metricas_tecnologia









