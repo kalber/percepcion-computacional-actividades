














import cv2 as cv
import numpy as np
import matplotlib.pyplot as plt
from skimage.metrics import structural_similarity
import pandas as pd





def mostrar_imagen(imagen, titulo = 'Imagen', cmap = 'gray'):
    mostrar_imagenes(imagenes=[imagen], titulos = [titulo], cmaps = [cmap])

def mostrar_imagenes(imagenes, titulos = None, cmaps = None):
    n = len(imagenes)
    if titulos is None:
        titulos = ['Imagen'] * n;

    if cmaps is None:
        cmaps = ['gray'] * n

    plt.figure(figsize=(5 * n, 5))
    for i in range(n):
        plt.subplot(1, n, i + 1)
        plt.imshow(imagenes[i], cmap = cmaps[i])
        plt.title(titulos[i])
        plt.axis('off')

    plt.tight_layout()
    plt.show()








original_cars_11 = cv.imread('../imagenes/cars/Cars11.png', cv.IMREAD_GRAYSCALE)
original_cars_3 = cv.imread('../imagenes/cars/Cars3.png', cv.IMREAD_GRAYSCALE)

if original_cars_11 is None:
    print('No se pudo abrir la imagen de Cars11')

if original_cars_3 is None:
    print('No se pudo abrir la imagen de Cars3')


mostrar_imagenes(
    imagenes=[original_cars_11, original_cars_3],
    titulos=['Original - Cars 11', 'Original - Cars 3']
)





def agregar_ruido_sal_y_pimienta(imagen, porcentaje = 0.1):
    imagen_con_ruido = imagen.copy()
    total_ruido = int(porcentaje * imagen_con_ruido.size / 2)

    # Añadimos sal
    pixeles_con_sal = [np.random.randint(0, i - 1, total_ruido) for i in imagen.shape]
    imagen_con_ruido[pixeles_con_sal[0], pixeles_con_sal[1]] = 255

    # Añadimos sal
    pixeles_con_pimienta = [np.random.randint(0, i - 1, total_ruido) for i in imagen.shape]
    imagen_con_ruido[pixeles_con_pimienta[0], pixeles_con_pimienta[1]] = 0

    return imagen_con_ruido





cars_11_con_ruido = agregar_ruido_sal_y_pimienta(original_cars_11, 0.05)
cars_3_con_ruido = agregar_ruido_sal_y_pimienta(original_cars_3, 0.05)





mostrar_imagenes(
    imagenes = [original_cars_11, cars_11_con_ruido],
    titulos = ['Cars 11: Imagen en grises - Original', 'Cars 11: Imagen en grises - Con ruido sal y pimienta']
)

mostrar_imagenes(
    imagenes = [original_cars_3, cars_3_con_ruido],
    titulos = ['Cars 3: Imagen en grises - Original', 'Cars 3: Imagen en grises - Con ruido sal y pimienta']
)





cars_11_filtrada_opencv = cv.medianBlur(cars_11_con_ruido, ksize = 3)
cars_3_filtrada_opencv = cv.medianBlur(cars_3_con_ruido, ksize = 3)





def kuwahara_filter(imagen, tamanio_ventana = 5):
    # Obtenemos un tamaño para cada uno de los cuadrantes.
    tamanio_cuadrante = tamanio_ventana // 2

    # Los bordes se generan con el objetivo de que, para cada uno de los píxeles de nuestra imagen con ruido, 
    # se pueda seleccionar una ventana para obtener los cuadrantes.
    # Le pasamos la imagen, luego pasamos el tamaño que tendrá el borde en cada lado (top, bottom, left, right),
    # y al final definimos cómo vamos a generar este borde. 
    # BORDER_REFLECT refleja los píxeles que se tienen en la imagen. 
    # Ejemplo: cba|abcdefg|gfe
    imagen_con_borde = cv.copyMakeBorder(imagen, tamanio_cuadrante, tamanio_cuadrante, tamanio_cuadrante, tamanio_cuadrante, cv.BORDER_REFLECT)

    # Generamos un arreglo bidimensional del mismo tamaño que la imagen de entrada. Se inicializa en 0.
    imagen_filtrada = np.zeros_like(imagen)

    # Obtenemos las filas y columnas de nuestra imagen con ruido.
    filas, columnas = imagen.shape

    # Recorremos fila por fila y columna por columna nuestra imagen.
    for i in range(filas):
        for j in range(columnas):
            # Obtenemos nuestra ventana usando la imagen con bordes.
            ventana = imagen_con_borde[i: i + tamanio_ventana, j: j + tamanio_ventana]

            # Dividimos nuestra ventana en los 4 cuadrantes que necesitamos.
            cuadrantes = [
                ventana[0: tamanio_cuadrante + 1, 0: tamanio_cuadrante + 1], # Cuadrante 1
                ventana[0: tamanio_cuadrante + 1, tamanio_cuadrante:],       # Cuadrante 2
                ventana[tamanio_cuadrante:, 0: tamanio_cuadrante],           # Cuadrante 3
                ventana[tamanio_cuadrante:, tamanio_cuadrante:]              # Cuadrante 4
            ]

            # Calculamos las medias y las varianzas de cada uno de los cuadrantes.
            medias_cuadrantes = [np.mean(cuadrante) for cuadrante in cuadrantes]
            varianza_cuadrantes = [np.var(cuadrante) for cuadrante in cuadrantes]

            # Buscamos el cuadrante con menor varianza.
            indice_menor_varianza = np.argmin(varianza_cuadrantes)

            # Se guarda la media del cuadrante con menor varianza en el arreglo bidimensional. La media se convierte a entero, por si tenemos valores decimales.
            imagen_filtrada[i, j] = int(medias_cuadrantes[indice_menor_varianza])

    # Al final, retornamos la imagen filtrada.
    return imagen_filtrada


cars_11_filtrada_manual = kuwahara_filter(cars_11_con_ruido, 5)
cars_3_filtrada_manual = kuwahara_filter(cars_3_con_ruido, 5)





mostrar_imagenes(
    imagenes = [cars_11_filtrada_opencv, original_cars_11, cars_11_filtrada_manual],
    titulos = ['Cars 11: Imagen en grises - Filtrada con OpenCV', 'Cars 11: Imagen en grises - Original', 'Cars 11: Imagen en grises - Filtrada Manual']
)

mostrar_imagenes(
    imagenes = [cars_3_filtrada_opencv, original_cars_3, cars_3_filtrada_manual],
    titulos = ['Cars 3: Imagen en grises - Filtrada con OpenCV', 'Cars 3: Imagen en grises - Original', 'Cars 3: Imagen en grises - Filtrada Manual']
)








def calcular_mse(imagen_original, imagen_filtrada):
    return np.mean((imagen_original.astype(np.float64) - imagen_filtrada.astype(np.float64)) ** 2)

def calcular_ssim(imagen_original, imagen_filtrada, channel_axis = None):
    valor_ssim, _ = structural_similarity(imagen_original, imagen_filtrada, full = True, channel_axis = channel_axis)
    return valor_ssim

def calcular_psnr(imagen_original, imagen_filtrada):
    return cv.PSNR(imagen_original, imagen_filtrada)





metricas_cars_11 = {
    "Filtrada_OpenCV_vs_Original": {
        "MSE": calcular_mse(original_cars_11, cars_11_filtrada_opencv),
        "SSIM": calcular_ssim(original_cars_11, cars_11_filtrada_opencv),
        "PSNR": calcular_psnr(original_cars_11, cars_11_filtrada_opencv)
    },
    "Filtrada_Manual_vs_Original": {
        "MSE": calcular_mse(original_cars_11, cars_11_filtrada_manual),
        "SSIM": calcular_ssim(original_cars_11, cars_11_filtrada_manual),
        "PSNR": calcular_psnr(original_cars_11, cars_11_filtrada_manual)
    }
}
print(metricas_cars_11)

metricas_cars_3 = {
    "Filtrada_OpenCV_vs_Original": {
        "MSE": calcular_mse(original_cars_3, cars_3_filtrada_opencv),
        "SSIM": calcular_ssim(original_cars_3, cars_3_filtrada_opencv),
        "PSNR": calcular_psnr(original_cars_3, cars_3_filtrada_opencv)
    },
    "Filtrada_Manual_vs_Original": {
        "MSE": calcular_mse(original_cars_3, cars_3_filtrada_manual),
        "SSIM": calcular_ssim(original_cars_3, cars_3_filtrada_manual),
        "PSNR": calcular_psnr(original_cars_3, cars_3_filtrada_manual)
    }
}
print(metricas_cars_3)


df_metricas_cars_11 = pd.DataFrame(metricas_cars_11).T
df_metricas_cars_3 = pd.DataFrame(metricas_cars_3).T





df_metricas_cars_11


df_metricas_cars_3











def mostrar_imagen_color(imagen, titulo = 'Imagen'):
    mostrar_imagen(cv.cvtColor(imagen, cv.COLOR_BGR2RGB), titulo, None)

def mostrar_imagenes_color(imagenes, titulos = None):
    mostrar_imagenes(
        imagenes = [cv.cvtColor(imagen, cv.COLOR_BGR2RGB) for imagen in imagenes],
        titulos = titulos,
        cmaps = [None] * len(imagenes)
    )





original_coche_01 = cv.imread('../imagenes/cars/coche01.jpeg')
original_coche_15 = cv.imread('../imagenes/cars/coche15.jpeg')

if original_coche_01 is None:
    print('No se pudo abrir la imagen de coche01')

if original_coche_15 is None:
    print('No se pudo abrir la imagen de coche15')


mostrar_imagenes_color(
    imagenes = [original_coche_01, original_coche_15],
    titulos = ['Original - Coche 01', 'Original - Coche 15']
)








def mejorar_contraste_opencv_canal_V(imagen):
    # Convertimos la imagen a color HSV
    imagen_hsv = cv.cvtColor(imagen, cv.COLOR_BGR2HSV)

    # Ecualizamos el canal V, que es el brillo.
    imagen_hsv[:, :, 2] = cv.equalizeHist(imagen_hsv[:, :, 2])

    # retornamos la imagen de vuelta en color BGR
    return cv.cvtColor(imagen_hsv, cv.COLOR_HSV2BGR)





mejorada_opencv_coche_01 = mejorar_contraste_opencv_canal_V(original_coche_01)
mejorada_opencv_coche_15 = mejorar_contraste_opencv_canal_V(original_coche_15)


mostrar_imagenes_color(
    imagenes = [original_coche_01, mejorada_opencv_coche_01],
    titulos = ['Imagen Original - Coche 01', 'Imagen Mejorada - Coche 01']
)

mostrar_imagenes_color(
    imagenes = [original_coche_15, mejorada_opencv_coche_15],
    titulos = ['Imagen Original - Coche 15', 'Imagen Mejorada - Coche 15']
)











def transformacion_gamma_colores(imagen, gamma = 0.5):
    imagen_escalada = imagen.astype(np.float32) / 255.0
    imagen_gamma = np.power(imagen_escalada, gamma)
    imagen_gamma = (imagen_gamma * 255.0).astype(np.uint8)
    return imagen_gamma

def transformacion_gamma_luminancia(imagen, gamma = 0.5):
    imagen_hsv = cv.cvtColor(imagen, cv.COLOR_BGR2HSV).astype(np.float32)
    imagen_hsv[:, :, 2] = imagen_hsv[:, :, 2] / 255.0

    imagen_hsv[:, :, 2] = np.power(imagen_hsv[:, :, 2], gamma)

    imagen_hsv[:, :, 2] = imagen_hsv[:, :, 2] * 255.0
    imagen_hsv = imagen_hsv.astype(np.uint8)

    return cv.cvtColor(imagen_hsv, cv.COLOR_HSV2BGR)





mejorada_manual_color_coche_01 = transformacion_gamma_colores(original_coche_01)
mejorada_manual_luminancia_coche_01 = transformacion_gamma_luminancia(original_coche_01)

mejorada_manual_color_coche_15 = transformacion_gamma_colores(original_coche_15)
mejorada_manual_luminancia_coche_15 = transformacion_gamma_luminancia(original_coche_15)





mostrar_imagenes_color(
    imagenes = [mejorada_manual_color_coche_01, original_coche_01, mejorada_manual_luminancia_coche_01],
    titulos = ['Imagen Mejorada Manual Color - Coche 01', 'Imagen Original - Coche 01', 'Imagen Mejorada Manual Luminancia - Coche 01']
)

mostrar_imagenes_color(
    imagenes = [mejorada_manual_color_coche_15, original_coche_15, mejorada_manual_luminancia_coche_15],
    titulos = ['Imagen Mejorada Manual Color - Coche 15', 'Imagen Original - Coche 15', 'Imagen Mejorada Manual Luminancia - Coche 15']
)





mostrar_imagenes_color(
    imagenes = [mejorada_opencv_coche_01, original_coche_01, mejorada_manual_color_coche_01],
    titulos = ['Imagen Mejorada OpenCV - Coche 01', 'Imagen Original - Coche 01', 'Imagen Mejorada Manual Color - Coche 01']
)

mostrar_imagenes_color(
    imagenes = [mejorada_opencv_coche_15, original_coche_15, mejorada_manual_color_coche_15],
    titulos = ['Imagen Mejorada OpenCV - Coche 15', 'Imagen Original - Coche 15', 'Imagen Mejorada Manual Color - Coche 15']
)





mostrar_imagenes_color(
    imagenes = [mejorada_opencv_coche_01, original_coche_01, mejorada_manual_luminancia_coche_01],
    titulos = ['Imagen Mejorada OpenCV - Coche 01', 'Imagen Original - Coche 01', 'Imagen Mejorada Manual Luminancia - Coche 01']
)

mostrar_imagenes_color(
    imagenes = [mejorada_opencv_coche_15, original_coche_15, mejorada_manual_luminancia_coche_15],
    titulos = ['Imagen Mejorada OpenCV - Coche 15', 'Imagen Original - Coche 15', 'Imagen Mejorada Manual Luminancia - Coche 15']
)








def evaluar_tecnicas(imagen_original, imagenes_mejoradas, nombres_tecnicas):
    resultados = []

    for i, imagen_mejorada in enumerate(imagenes_mejoradas):
        nombre = nombres_tecnicas[i]

        # calcular MSE
        mse_val = calcular_mse(imagen_original, imagen_mejorada)

        # calcular SSIM
        ssim_val = calcular_ssim(imagen_original, imagen_mejorada, -1)

        # calcular PSNR
        psnr_val = calcular_psnr(imagen_original, imagen_mejorada)

        # Calculamos varianza global.
        varianzas = [np.var(imagen_mejorada[:, :, c]) for c in range(3)]
        varianza_promedio = np.mean(varianzas)

        resultados.append({
            'Técnica': nombre,
            'MSE': round(mse_val, 4),
            'PSNR (db)': round(psnr_val, 4),
            'SSIM': round(ssim_val, 4),
            'Varianza': round(varianza_promedio, 4)
        })

    df_resultados = pd.DataFrame(resultados)
    df_resultados = df_resultados.set_index('Técnica')

    return df_resultados





df_metricas_tecnicas_coche_01 = evaluar_tecnicas(
    imagen_original = original_coche_01,
    imagenes_mejoradas = [mejorada_opencv_coche_01, mejorada_manual_color_coche_01, mejorada_manual_luminancia_coche_01],
    nombres_tecnicas = ['equalizeHist - OpenCV', 'Transformación Gamma BGR - Manual', 'Transformación Gamma Luminancia - Manual']
)

df_metricas_tecnicas_coche_01


df_metricas_tecnicas_coche_15 = evaluar_tecnicas(
    imagen_original = original_coche_15,
    imagenes_mejoradas = [mejorada_opencv_coche_15, mejorada_manual_color_coche_15, mejorada_manual_luminancia_coche_15],
    nombres_tecnicas = ['equalizeHist - OpenCV', 'Transformación Gamma BGR - Manual', 'Transformación Gamma Luminancia - Manual']
)

df_metricas_tecnicas_coche_15





def comparar_histogramas_color(imagen_original, imagenes_mejoradas, titulo_general, titulo_original = 'Original', titulos_mejoradas = None):
    imagenes_dibujar = [imagen_original] + imagenes_mejoradas
    total_imagenes = len(imagenes_dibujar)
    colores = [['b', 'Azul'], ['g', 'Verde'], ['r', 'Rojo']]

    if titulos_mejoradas is None:
        titulos_mejoradas = ['Mejorada'] * total_imagenes

    titulos = [titulo_original] + titulos_mejoradas
    
    plt.figure(figsize=(4 * len(imagenes_dibujar), 8))

    for i, imagen in enumerate(imagenes_dibujar):
        
        plt.subplot(2, total_imagenes, i + 1)
        plt.title(titulos[i])
        for j, color in enumerate(colores):
            hist = cv.calcHist([imagen], [j], None, [256], [0, 256])
            plt.plot(hist, color = color[0], label = color[1])
    
        plt.xlim([0, 256])
        plt.legend()
        plt.grid(True)

    for i, imagen in enumerate(imagenes_dibujar):
        imagen_hsv = cv.cvtColor(imagen, cv.COLOR_BGR2HSV)
        
        plt.subplot(2, total_imagenes, 3 + i + 1)
        plt.title(titulos[i])

        imagen_hsv = cv.cvtColor(imagen, cv.COLOR_BGR2HSV)
        hist = cv.calcHist([imagen_hsv[:, :, 2]], [0], None, [256], [0, 256])
        plt.plot(hist, color = 'y', label = 'Brillo')
    
        plt.xlim([0, 256])
        plt.legend()
        plt.grid(True)

    plt.suptitle(titulo_general)
    plt.show()





comparar_histogramas_color(original_coche_01, [mejorada_manual_color_coche_01, mejorada_opencv_coche_01], 'Coche 01 Color', 'Original', ['Manual', 'OpenCV'])
comparar_histogramas_color(original_coche_01, [mejorada_manual_luminancia_coche_01, mejorada_opencv_coche_01], 'Coche 01 Luminancia', 'Original', ['Manual', 'OpenCV'])


comparar_histogramas_color(original_coche_15, [mejorada_manual_color_coche_15, mejorada_opencv_coche_15], 'Coche 15 Color', 'Original', ['Manual', 'OpenCV'])
comparar_histogramas_color(original_coche_15, [mejorada_manual_luminancia_coche_15, mejorada_opencv_coche_15], 'Coche 15 Luminancia', 'Original', ['Manual', 'OpenCV'])









